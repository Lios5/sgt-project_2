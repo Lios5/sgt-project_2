{
  "nbformat": 4,
  "nbformat_minor": 0,
  "metadata": {
    "colab": {
      "provenance": [],
      "authorship_tag": "ABX9TyMGXKx6dR3gcnBpRT/oN48d"
    },
    "kernelspec": {
      "name": "python3",
      "display_name": "Python 3"
    },
    "language_info": {
      "name": "python"
    }
  },
  "cells": [
    {
      "cell_type": "markdown",
      "source": [
        "# Weather Data\n",
        "### by Lin van Nefterik and Stoil Iliev"
      ],
      "metadata": {
        "id": "N_QZPeQUBTKT"
      }
    },
    {
      "cell_type": "markdown",
      "source": [
        "Packages:"
      ],
      "metadata": {
        "id": "DF700LweCvZm"
      }
    },
    {
      "cell_type": "code",
      "execution_count": null,
      "metadata": {
        "id": "GF1br4dcAkwQ"
      },
      "outputs": [],
      "source": [
        "!pip install numpy pandas matplotlib seaborn sklearn scipy"
      ]
    },
    {
      "cell_type": "markdown",
      "source": [
        "Imports:"
      ],
      "metadata": {
        "id": "Zmlt8Qy6CyCQ"
      }
    },
    {
      "cell_type": "code",
      "source": [
        "import numpy as np\n",
        "import pandas as pd\n",
        "import matplotlib.pyplot as plt\n",
        "import seaborn as sns\n",
        "import sklearn\n",
        "import scipy\n",
        "import warnings\n",
        "warnings.filterwarnings('ignore')"
      ],
      "metadata": {
        "id": "AsNLwnw8CzsH"
      },
      "execution_count": null,
      "outputs": []
    },
    {
      "cell_type": "code",
      "source": [
        "class WeatherGraphProcessor:\n",
        "  def __init__(self, stations_file=\"weather_stations.csv\", data_file=\"weather_data.csv\"):\n",
        "    self.stations_df = None\n",
        "    self.weather_df = None\n",
        "    self.load_data(stations_file, data_file)\n",
        "    self.GWS = None # Weather station graph\n",
        "    self.eigenvalues = None\n",
        "    self.eigenvects = None\n",
        "\n",
        "  def load_data(self, stations_file, data_file):\n",
        "    try:\n",
        "      # Load weather station data\n",
        "      self.stations_df = pd.read_csv(stations_file)\n",
        "      print.(f\"Loaded {len(self.stations_df)} weather stations\")\n",
        "\n",
        "      # Load weather measurement data\n",
        "      self.weather_df = pd.read_csv(data_file)\n",
        "      print.(f\"Loaded {len(self.weather_df)} weather measurements\")\n",
        "\n",
        "      # Display basic info\n",
        "      print(\"\\nWeather stations columns:\", list(self.stations_df.columns))\n",
        "      print(\"Weather data columns:\", list(self.weather_df.columns))\n",
        "      print(f\"Date range: {self.weather_df['DATE'].min()} to {self.weather_df['DATE'].max()}\")\n",
        "\n",
        "    except FileNotFoundError:\n",
        "      print(\"File not found\")"
      ],
      "metadata": {
        "id": "0sI3IP7vDAiO"
      },
      "execution_count": null,
      "outputs": []
    },
    {
      "cell_type": "code",
      "source": [
        "def construct_weather_station_graph(self, alpha=0.1, beta=0.001, sparsification='knn', k=8, threshold=0.1):\n",
        "  # alpha: distance decay\n",
        "  # beta: alt diff decay\n",
        "  # sparsification: knn, threshold, none?\n",
        "  # k: kNN number\n",
        "  # threshold: for weight-based sparisification\n",
        "\n",
        "  n_stations = len(self.stations_df)\n",
        "  W = np.zeros((n_stations, n_stations))\n",
        "\n",
        "  # get coordinates / altitudes\n",
        "  lats = self.stations_df['LAT'].values\n",
        "  longs = self.stations_df['LONGI'].values\n",
        "  heis = self.stations_df['HEI'].values\n",
        "\n",
        "  # compute pairwise distances\n",
        "\n",
        "  # sparsification\n",
        "\n",
        "  # compute eigenvals, eigenvects\n",
        "\n",
        "  # ..."
      ],
      "metadata": {
        "id": "MCV7Lmbp4xpM"
      },
      "execution_count": null,
      "outputs": []
    },
    {
      "cell_type": "code",
      "source": [
        "def construct_spacetime_graph(self, time_steps):"
      ],
      "metadata": {
        "id": "ZKgFjCT248P9"
      },
      "execution_count": null,
      "outputs": []
    },
    {
      "cell_type": "code",
      "source": [
        "def extract_signal(self, start_date, end_date):"
      ],
      "metadata": {
        "id": "T8LWbclT6f5M"
      },
      "execution_count": null,
      "outputs": []
    },
    {
      "cell_type": "code",
      "source": [
        "def graph_fourier_transform(self, signal):"
      ],
      "metadata": {
        "id": "H8hxIzFU5EZw"
      },
      "execution_count": null,
      "outputs": []
    },
    {
      "cell_type": "code",
      "source": [
        "def inverse_graph_fourier_transform(self, gft_coeff):"
      ],
      "metadata": {
        "id": "R6IpvQ7Y5Iiy"
      },
      "execution_count": null,
      "outputs": []
    }
  ]
}